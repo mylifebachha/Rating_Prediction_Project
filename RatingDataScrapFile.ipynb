{
 "cells": [
  {
   "cell_type": "code",
   "execution_count": 1,
   "id": "3e73544c",
   "metadata": {},
   "outputs": [],
   "source": [
    "import pandas as pd\n",
    "import numpy as np\n",
    "from bs4 import BeautifulSoup\n",
    "import selenium.webdriver\n",
    "from selenium import webdriver \n",
    "from datetime import date \n",
    "from selenium.webdriver.support.ui import WebDriverWait\n",
    "from selenium.webdriver.support import expected_conditions as EC \n",
    "from selenium.webdriver.common.by import By\n",
    "from dateutil.relativedelta import relativedelta\n",
    "import csv\n",
    "import linecache\n",
    "import sys\n",
    "import matplotlib.pyplot as plt\n",
    "import seaborn as sns\n",
    "import datetime as dt\n",
    "import time\n",
    "\n",
    "import warnings\n",
    "warnings.filterwarnings('ignore')"
   ]
  },
  {
   "cell_type": "markdown",
   "id": "73d5107a",
   "metadata": {},
   "source": [
    "# Data 1"
   ]
  },
  {
   "cell_type": "code",
   "execution_count": null,
   "id": "5ce136c6",
   "metadata": {},
   "outputs": [],
   "source": [
    "# Connect to Driver\n",
    "\n",
    "driver= webdriver.Chrome('chromedriver.exe')\n",
    "driver.maximize_window()\n",
    "\n",
    "url='https://www.flipkart.com/boat-blitz-1500-multimedia-50-w-bluetooth-home-theatre/product-reviews/itma1eb339f35e7f?pid=ACCFYWX3SM6EUDBC&lid=LSTACCFYWX3SM6EUDBCAMU1XX&aid=overall&certifiedBuyer=false&sortOrder=NEGATIVE_FIRST&page=1'\n",
    "driver.get(url)"
   ]
  },
  {
   "cell_type": "code",
   "execution_count": null,
   "id": "3e45659b",
   "metadata": {},
   "outputs": [],
   "source": [
    "# Close login page\n",
    "try:\n",
    "    login_page=driver.find_element_by_xpath('/html/body/div[2]/div/div/button')\n",
    "    login_page.click()\n",
    "except: pass\n"
   ]
  },
  {
   "cell_type": "code",
   "execution_count": 5,
   "id": "a1f0a12f",
   "metadata": {},
   "outputs": [],
   "source": [
    "# create empty list to save scrapped data\n",
    "rating=[]\n",
    "title=[]\n",
    "review=[]"
   ]
  },
  {
   "cell_type": "code",
   "execution_count": 6,
   "id": "6733b203",
   "metadata": {},
   "outputs": [
    {
     "data": {
      "text/plain": [
       "(978, 978, 978)"
      ]
     },
     "execution_count": 6,
     "metadata": {},
     "output_type": "execute_result"
    }
   ],
   "source": [
    "start=0\n",
    "end=98\n",
    "for page in range(start, end):\n",
    "    time.sleep(4)\n",
    "    ratings= driver.find_elements_by_xpath('//div[@class=\"col _2wzgFH K0kLPL\"]/div[1]/div[1]')\n",
    "    titles= driver.find_elements_by_xpath(\"//p[@class='_2-N8zT']\")\n",
    "    reviews=driver.find_elements_by_xpath(\"//div[@class='t-ZTKy']\")\n",
    "    \n",
    "    for i in ratings:\n",
    "        rating.append(i.text)\n",
    "        \n",
    "    for j in titles:\n",
    "        title.append(j.text)\n",
    "        \n",
    "    for k in reviews:\n",
    "        review.append(k.text)\n",
    "        \n",
    "    next_button= driver.find_elements_by_xpath('//a[@class=\"_1LKTO3\"]')\n",
    "    \n",
    "    try:\n",
    "        driver.get(next_button[1].get_attribute('href'))\n",
    "        \n",
    "    except:\n",
    "        driver.get(next_button[0].get_attribute('href'))               \n",
    "     \n",
    "    \n",
    "len(rating), len(title), len(review)"
   ]
  },
  {
   "cell_type": "code",
   "execution_count": 8,
   "id": "272337cc",
   "metadata": {},
   "outputs": [
    {
     "data": {
      "text/html": [
       "<div>\n",
       "<style scoped>\n",
       "    .dataframe tbody tr th:only-of-type {\n",
       "        vertical-align: middle;\n",
       "    }\n",
       "\n",
       "    .dataframe tbody tr th {\n",
       "        vertical-align: top;\n",
       "    }\n",
       "\n",
       "    .dataframe thead th {\n",
       "        text-align: right;\n",
       "    }\n",
       "</style>\n",
       "<table border=\"1\" class=\"dataframe\">\n",
       "  <thead>\n",
       "    <tr style=\"text-align: right;\">\n",
       "      <th></th>\n",
       "      <th>Title</th>\n",
       "      <th>Review</th>\n",
       "      <th>Rating</th>\n",
       "    </tr>\n",
       "  </thead>\n",
       "  <tbody>\n",
       "    <tr>\n",
       "      <th>0</th>\n",
       "      <td>Unsatisfactory</td>\n",
       "      <td>Product quality of the sound is very poor..\\nI...</td>\n",
       "      <td>1</td>\n",
       "    </tr>\n",
       "    <tr>\n",
       "      <th>1</th>\n",
       "      <td>Very poor</td>\n",
       "      <td>Not Good for Bass</td>\n",
       "      <td>1</td>\n",
       "    </tr>\n",
       "    <tr>\n",
       "      <th>2</th>\n",
       "      <td>Terrible product</td>\n",
       "      <td>Poor sound bad product</td>\n",
       "      <td>1</td>\n",
       "    </tr>\n",
       "    <tr>\n",
       "      <th>3</th>\n",
       "      <td>Terrible product</td>\n",
       "      <td>This product's sound quality is very bad as my...</td>\n",
       "      <td>1</td>\n",
       "    </tr>\n",
       "    <tr>\n",
       "      <th>4</th>\n",
       "      <td>Useless product</td>\n",
       "      <td>Please don't buy .Sound not good .Boat quality...</td>\n",
       "      <td>1</td>\n",
       "    </tr>\n",
       "    <tr>\n",
       "      <th>...</th>\n",
       "      <td>...</td>\n",
       "      <td>...</td>\n",
       "      <td>...</td>\n",
       "    </tr>\n",
       "    <tr>\n",
       "      <th>973</th>\n",
       "      <td>Highly recommended</td>\n",
       "      <td>Supper</td>\n",
       "      <td>5</td>\n",
       "    </tr>\n",
       "    <tr>\n",
       "      <th>974</th>\n",
       "      <td>Great product</td>\n",
       "      <td>Sound Quality is next level, superior clearity...</td>\n",
       "      <td>5</td>\n",
       "    </tr>\n",
       "    <tr>\n",
       "      <th>975</th>\n",
       "      <td>Awesome</td>\n",
       "      <td>Good product</td>\n",
       "      <td>5</td>\n",
       "    </tr>\n",
       "    <tr>\n",
       "      <th>976</th>\n",
       "      <td>Wonderful</td>\n",
       "      <td>This is the best product in my life</td>\n",
       "      <td>5</td>\n",
       "    </tr>\n",
       "    <tr>\n",
       "      <th>977</th>\n",
       "      <td>Awesome</td>\n",
       "      <td>Bass quality is not as expected from boAt exce...</td>\n",
       "      <td>5</td>\n",
       "    </tr>\n",
       "  </tbody>\n",
       "</table>\n",
       "<p>978 rows × 3 columns</p>\n",
       "</div>"
      ],
      "text/plain": [
       "                  Title                                             Review  \\\n",
       "0        Unsatisfactory  Product quality of the sound is very poor..\\nI...   \n",
       "1             Very poor                                  Not Good for Bass   \n",
       "2      Terrible product                             Poor sound bad product   \n",
       "3      Terrible product  This product's sound quality is very bad as my...   \n",
       "4       Useless product  Please don't buy .Sound not good .Boat quality...   \n",
       "..                  ...                                                ...   \n",
       "973  Highly recommended                                             Supper   \n",
       "974       Great product  Sound Quality is next level, superior clearity...   \n",
       "975             Awesome                                       Good product   \n",
       "976           Wonderful                This is the best product in my life   \n",
       "977             Awesome  Bass quality is not as expected from boAt exce...   \n",
       "\n",
       "    Rating  \n",
       "0        1  \n",
       "1        1  \n",
       "2        1  \n",
       "3        1  \n",
       "4        1  \n",
       "..     ...  \n",
       "973      5  \n",
       "974      5  \n",
       "975      5  \n",
       "976      5  \n",
       "977      5  \n",
       "\n",
       "[978 rows x 3 columns]"
      ]
     },
     "execution_count": 8,
     "metadata": {},
     "output_type": "execute_result"
    }
   ],
   "source": [
    "data1=pd.DataFrame({\"Title\":title,\"Review\":review,\"Rating\":rating})\n",
    "data1"
   ]
  },
  {
   "cell_type": "markdown",
   "id": "d5b5d57f",
   "metadata": {},
   "source": [
    "# New Data 2"
   ]
  },
  {
   "cell_type": "code",
   "execution_count": 10,
   "id": "063629e3",
   "metadata": {},
   "outputs": [],
   "source": [
    "# Connect to Driver\n",
    "\n",
    "driver= webdriver.Chrome('chromedriver.exe')\n",
    "driver.maximize_window()\n",
    "\n",
    "url='https://www.flipkart.com/apple-iphone-se-black-256-gb/product-reviews/itmb1c4c827c8951?pid=MOBFWQ6BHJB7XAFV&lid=LSTMOBFWQ6BHJB7XAFVCYMPPB&marketplace=FLIPKART'\n",
    "driver.get(url)"
   ]
  },
  {
   "cell_type": "code",
   "execution_count": 11,
   "id": "7ef1b9f3",
   "metadata": {},
   "outputs": [],
   "source": [
    "# Close login page\n",
    "try:\n",
    "    login_page=driver.find_element_by_xpath('/html/body/div[2]/div/div/button')\n",
    "    login_page.click()\n",
    "except: pass\n"
   ]
  },
  {
   "cell_type": "code",
   "execution_count": 12,
   "id": "8376b755",
   "metadata": {},
   "outputs": [],
   "source": [
    "# create empty list to save scrapped data\n",
    "rating=[]\n",
    "title=[]\n",
    "review=[]"
   ]
  },
  {
   "cell_type": "code",
   "execution_count": 13,
   "id": "f49c5ea5",
   "metadata": {},
   "outputs": [
    {
     "data": {
      "text/plain": [
       "(2000, 2000, 2000)"
      ]
     },
     "execution_count": 13,
     "metadata": {},
     "output_type": "execute_result"
    }
   ],
   "source": [
    "start=0\n",
    "end=200\n",
    "for page in range(start, end):\n",
    "    time.sleep(4)\n",
    "    ratings= driver.find_elements_by_xpath('//div[@class=\"col _2wzgFH K0kLPL\"]/div[1]/div[1]')\n",
    "    titles= driver.find_elements_by_xpath(\"//p[@class='_2-N8zT']\")\n",
    "    reviews=driver.find_elements_by_xpath(\"//div[@class='t-ZTKy']\")\n",
    "    \n",
    "    for i in ratings:\n",
    "        rating.append(i.text)\n",
    "        \n",
    "    for j in titles:\n",
    "        title.append(j.text)\n",
    "        \n",
    "    for k in reviews:\n",
    "        review.append(k.text)\n",
    "        \n",
    "    next_button= driver.find_elements_by_xpath('//a[@class=\"_1LKTO3\"]')\n",
    "    \n",
    "    try:\n",
    "        driver.get(next_button[1].get_attribute('href'))\n",
    "        \n",
    "    except:\n",
    "        driver.get(next_button[0].get_attribute('href'))               \n",
    "     \n",
    "    \n",
    "len(rating), len(title), len(review)"
   ]
  },
  {
   "cell_type": "code",
   "execution_count": 14,
   "id": "ac4bce43",
   "metadata": {},
   "outputs": [],
   "source": [
    "data2=pd.DataFrame({\"Title\":title,\"Review\":review,\"Rating\":rating})"
   ]
  },
  {
   "cell_type": "code",
   "execution_count": 15,
   "id": "0f699158",
   "metadata": {},
   "outputs": [
    {
     "data": {
      "text/html": [
       "<div>\n",
       "<style scoped>\n",
       "    .dataframe tbody tr th:only-of-type {\n",
       "        vertical-align: middle;\n",
       "    }\n",
       "\n",
       "    .dataframe tbody tr th {\n",
       "        vertical-align: top;\n",
       "    }\n",
       "\n",
       "    .dataframe thead th {\n",
       "        text-align: right;\n",
       "    }\n",
       "</style>\n",
       "<table border=\"1\" class=\"dataframe\">\n",
       "  <thead>\n",
       "    <tr style=\"text-align: right;\">\n",
       "      <th></th>\n",
       "      <th>Title</th>\n",
       "      <th>Review</th>\n",
       "      <th>Rating</th>\n",
       "    </tr>\n",
       "  </thead>\n",
       "  <tbody>\n",
       "    <tr>\n",
       "      <th>0</th>\n",
       "      <td>Worth the money</td>\n",
       "      <td>Can be surely preferred as your first iphone\\n...</td>\n",
       "      <td>4</td>\n",
       "    </tr>\n",
       "    <tr>\n",
       "      <th>1</th>\n",
       "      <td>Must buy!</td>\n",
       "      <td>Great device. Let me tell the Pros..\\n\\n1. Sup...</td>\n",
       "      <td>5</td>\n",
       "    </tr>\n",
       "    <tr>\n",
       "      <th>2</th>\n",
       "      <td>Great product</td>\n",
       "      <td>Who all loves older size i.e., 4.7 inch type s...</td>\n",
       "      <td>5</td>\n",
       "    </tr>\n",
       "    <tr>\n",
       "      <th>3</th>\n",
       "      <td>Value-for-money</td>\n",
       "      <td>This is the first iPhone I hv bought .. It’s b...</td>\n",
       "      <td>4</td>\n",
       "    </tr>\n",
       "    <tr>\n",
       "      <th>4</th>\n",
       "      <td>Super!</td>\n",
       "      <td>Great camera for pics and videos\\nBattery life...</td>\n",
       "      <td>5</td>\n",
       "    </tr>\n",
       "    <tr>\n",
       "      <th>...</th>\n",
       "      <td>...</td>\n",
       "      <td>...</td>\n",
       "      <td>...</td>\n",
       "    </tr>\n",
       "    <tr>\n",
       "      <th>1995</th>\n",
       "      <td>Terrific</td>\n",
       "      <td>Awesome👍</td>\n",
       "      <td>5</td>\n",
       "    </tr>\n",
       "    <tr>\n",
       "      <th>1996</th>\n",
       "      <td>Perfect product!</td>\n",
       "      <td>Apple iPhone on this price with latest configu...</td>\n",
       "      <td>5</td>\n",
       "    </tr>\n",
       "    <tr>\n",
       "      <th>1997</th>\n",
       "      <td>Highly recommended</td>\n",
       "      <td>Very nice iphone series</td>\n",
       "      <td>5</td>\n",
       "    </tr>\n",
       "    <tr>\n",
       "      <th>1998</th>\n",
       "      <td>Best in the market!</td>\n",
       "      <td>It’s an awesome product performance is top of ...</td>\n",
       "      <td>5</td>\n",
       "    </tr>\n",
       "    <tr>\n",
       "      <th>1999</th>\n",
       "      <td>Wonderful</td>\n",
       "      <td>Best phone just loved it...\\n\\nDrawbacks which...</td>\n",
       "      <td>5</td>\n",
       "    </tr>\n",
       "  </tbody>\n",
       "</table>\n",
       "<p>2000 rows × 3 columns</p>\n",
       "</div>"
      ],
      "text/plain": [
       "                    Title                                             Review  \\\n",
       "0         Worth the money  Can be surely preferred as your first iphone\\n...   \n",
       "1               Must buy!  Great device. Let me tell the Pros..\\n\\n1. Sup...   \n",
       "2           Great product  Who all loves older size i.e., 4.7 inch type s...   \n",
       "3         Value-for-money  This is the first iPhone I hv bought .. It’s b...   \n",
       "4                  Super!  Great camera for pics and videos\\nBattery life...   \n",
       "...                   ...                                                ...   \n",
       "1995             Terrific                                           Awesome👍   \n",
       "1996     Perfect product!  Apple iPhone on this price with latest configu...   \n",
       "1997   Highly recommended                            Very nice iphone series   \n",
       "1998  Best in the market!  It’s an awesome product performance is top of ...   \n",
       "1999            Wonderful  Best phone just loved it...\\n\\nDrawbacks which...   \n",
       "\n",
       "     Rating  \n",
       "0         4  \n",
       "1         5  \n",
       "2         5  \n",
       "3         4  \n",
       "4         5  \n",
       "...     ...  \n",
       "1995      5  \n",
       "1996      5  \n",
       "1997      5  \n",
       "1998      5  \n",
       "1999      5  \n",
       "\n",
       "[2000 rows x 3 columns]"
      ]
     },
     "execution_count": 15,
     "metadata": {},
     "output_type": "execute_result"
    }
   ],
   "source": [
    "data2"
   ]
  },
  {
   "cell_type": "markdown",
   "id": "a93165f5",
   "metadata": {},
   "source": [
    "# Data 3"
   ]
  },
  {
   "cell_type": "code",
   "execution_count": 19,
   "id": "cce52339",
   "metadata": {},
   "outputs": [],
   "source": [
    "# Connect to Driver\n",
    "\n",
    "driver= webdriver.Chrome('chromedriver.exe')\n",
    "driver.maximize_window()\n",
    "\n",
    "url='https://www.flipkart.com/mi-3i-20000-mah-power-bank-fast-charging-18w/product-reviews/itmd42cbbe08e65e?pid=PWBFVGXXFGEBYRF5&lid=LSTPWBFVGXXFGEBYRF5W11FW3&marketplace=FLIPKART&page=1'\n",
    "driver.get(url)"
   ]
  },
  {
   "cell_type": "code",
   "execution_count": 20,
   "id": "be74b4c6",
   "metadata": {},
   "outputs": [],
   "source": [
    "# Close login page\n",
    "try:\n",
    "    login_page=driver.find_element_by_xpath('/html/body/div[2]/div/div/button')\n",
    "    login_page.click()\n",
    "except: pass"
   ]
  },
  {
   "cell_type": "code",
   "execution_count": null,
   "id": "d0b97387",
   "metadata": {},
   "outputs": [],
   "source": [
    "start=0\n",
    "end=500\n",
    "for page in range(start, end):\n",
    "    time.sleep(4)\n",
    "    ratings= driver.find_elements_by_xpath('//div[@class=\"col _2wzgFH K0kLPL\"]/div[1]/div[1]')\n",
    "    titles= driver.find_elements_by_xpath(\"//p[@class='_2-N8zT']\")\n",
    "    reviews=driver.find_elements_by_xpath(\"//div[@class='t-ZTKy']\")\n",
    "    \n",
    "    for i in ratings:\n",
    "        rating.append(i.text)\n",
    "        \n",
    "    for j in titles:\n",
    "        title.append(j.text)\n",
    "        \n",
    "    for k in reviews:\n",
    "        review.append(k.text)\n",
    "        \n",
    "    next_button= driver.find_elements_by_xpath('//a[@class=\"_1LKTO3\"]')\n",
    "    \n",
    "    try:\n",
    "        driver.get(next_button[1].get_attribute('href'))\n",
    "        \n",
    "    except:\n",
    "        driver.get(next_button[0].get_attribute('href'))               \n",
    "     \n",
    "    \n",
    "len(rating), len(title), len(review)"
   ]
  },
  {
   "cell_type": "code",
   "execution_count": null,
   "id": "7ce986ad",
   "metadata": {},
   "outputs": [],
   "source": [
    "data3=pd.DataFrame({\"Title\":title,\"Review\":review,\"Rating\":rating})\n",
    "data3"
   ]
  },
  {
   "cell_type": "code",
   "execution_count": null,
   "id": "8176f17a",
   "metadata": {},
   "outputs": [],
   "source": []
  },
  {
   "cell_type": "markdown",
   "id": "b2a937b3",
   "metadata": {},
   "source": [
    "# Amazon Data"
   ]
  },
  {
   "cell_type": "code",
   "execution_count": null,
   "id": "cbcddc88",
   "metadata": {},
   "outputs": [],
   "source": [
    "# lets connect to driver\n",
    "\n",
    "driver= webdriver.Chrome('chromedriver.exe')\n",
    "driver.maximize_window()\n",
    "\n",
    "url='https://www.amazon.in/Micro-Edge-Anti-Glare-Graphics-Speakers-15S-Eq2143Au/product-reviews/B09R1MMMTH/ref=cm_cr_dp_d_show_all_btm?ie=UTF8&reviewerType=all_reviews'\n",
    "driver.get(url)"
   ]
  },
  {
   "cell_type": "code",
   "execution_count": null,
   "id": "b8551bac",
   "metadata": {},
   "outputs": [],
   "source": [
    "title=[]\n",
    "review=[]\n",
    "rating=[]"
   ]
  },
  {
   "cell_type": "code",
   "execution_count": null,
   "id": "6d4ff9e7",
   "metadata": {},
   "outputs": [],
   "source": [
    "titles= driver.find_elements_by_xpath('//a[@class=\"a-size-base a-link-normal review-title a-color-base review-title-content a-text-bold\"]')\n",
    "for i in titles:\n",
    "    title.append(i.text)\n",
    "\n",
    "reviews= driver.find_elements_by_xpath('//span[@class=\"a-size-base review-text review-text-content\"]')\n",
    "for i in reviews:\n",
    "    review.append(i.text)\n",
    "   \n"
   ]
  },
  {
   "cell_type": "code",
   "execution_count": null,
   "id": "2f9a9d03",
   "metadata": {},
   "outputs": [],
   "source": []
  },
  {
   "cell_type": "markdown",
   "id": "2f5d8827",
   "metadata": {},
   "source": [
    "# Similarly in this way I have scrapped data for multiple products and combined all dat in one csv file review_comments_data.csv"
   ]
  },
  {
   "cell_type": "code",
   "execution_count": null,
   "id": "da098d36",
   "metadata": {},
   "outputs": [],
   "source": []
  }
 ],
 "metadata": {
  "kernelspec": {
   "display_name": "Python 3 (ipykernel)",
   "language": "python",
   "name": "python3"
  },
  "language_info": {
   "codemirror_mode": {
    "name": "ipython",
    "version": 3
   },
   "file_extension": ".py",
   "mimetype": "text/x-python",
   "name": "python",
   "nbconvert_exporter": "python",
   "pygments_lexer": "ipython3",
   "version": "3.9.12"
  }
 },
 "nbformat": 4,
 "nbformat_minor": 5
}
